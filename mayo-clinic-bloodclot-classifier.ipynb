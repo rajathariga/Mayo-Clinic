{
 "cells": [
  {
   "cell_type": "code",
   "execution_count": 1,
   "id": "c9c9c191",
   "metadata": {
    "execution": {
     "iopub.execute_input": "2022-08-18T08:17:34.694102Z",
     "iopub.status.busy": "2022-08-18T08:17:34.693136Z",
     "iopub.status.idle": "2022-08-18T08:17:41.310743Z",
     "shell.execute_reply": "2022-08-18T08:17:41.309582Z"
    },
    "papermill": {
     "duration": 6.630408,
     "end_time": "2022-08-18T08:17:41.313776",
     "exception": false,
     "start_time": "2022-08-18T08:17:34.683368",
     "status": "completed"
    },
    "tags": []
   },
   "outputs": [],
   "source": [
    "import numpy as np\n",
    "import os\n",
    "import pandas as pd\n",
    "import matplotlib.pyplot as plt\n",
    "import glob\n",
    "import PIL\n",
    "import gc\n",
    "from PIL import Image\n",
    "from sklearn.preprocessing import LabelEncoder\n",
    "from tensorflow.keras.utils import Sequence\n",
    "from sklearn.model_selection import train_test_split\n",
    "from keras.preprocessing.image import ImageDataGenerator\n",
    "\n",
    "import tensorflow as tf\n",
    "from tensorflow import keras\n",
    "import keras.backend as K\n",
    "from keras.layers import Dense, Dropout, Flatten, Conv2D, MaxPool2D\n",
    "from keras.models import Sequential"
   ]
  },
  {
   "cell_type": "code",
   "execution_count": 2,
   "id": "c51a117c",
   "metadata": {
    "execution": {
     "iopub.execute_input": "2022-08-18T08:17:41.329924Z",
     "iopub.status.busy": "2022-08-18T08:17:41.329346Z",
     "iopub.status.idle": "2022-08-18T08:18:31.457997Z",
     "shell.execute_reply": "2022-08-18T08:18:31.456668Z"
    },
    "papermill": {
     "duration": 50.139904,
     "end_time": "2022-08-18T08:18:31.461123",
     "exception": false,
     "start_time": "2022-08-18T08:17:41.321219",
     "status": "completed"
    },
    "tags": []
   },
   "outputs": [
    {
     "name": "stdout",
     "output_type": "stream",
     "text": [
      "\r\n",
      "Downloading and Extracting Packages\r\n",
      "######################################################################## | 100% \r\n",
      "######################################################################## | 100% \r\n",
      "######################################################################## | 100% \r\n",
      "######################################################################## | 100% \r\n",
      "######################################################################## | 100% \r\n",
      "######################################################################## | 100% \r\n",
      "######################################################################## | 100% \r\n",
      "######################################################################## | 100% \r\n",
      "######################################################################## | 100% \r\n",
      "######################################################################## | 100% \r\n",
      "######################################################################## | 100% \r\n",
      "######################################################################## | 100% \r\n",
      "######################################################################## | 100% \r\n",
      "######################################################################## | 100% \r\n",
      "######################################################################## | 100% \r\n",
      "######################################################################## | 100% \r\n",
      "######################################################################## | 100% \r\n",
      "######################################################################## | 100% \r\n",
      "######################################################################## | 100% \r\n",
      "######################################################################## | 100% \r\n",
      "######################################################################## | 100% \r\n",
      "Preparing transaction: - \b\b\\ \b\b| \b\b/ \b\b- \b\b\\ \b\b| \b\b/ \b\b- \b\b\\ \b\b| \b\b/ \b\b- \b\b\\ \b\b| \b\b/ \b\b- \b\b\\ \b\b| \b\b/ \b\b- \b\b\\ \b\b| \b\b/ \b\b- \b\b\\ \b\b| \b\b/ \b\b- \b\b\\ \b\b| \b\b/ \b\b- \b\b\\ \b\bdone\r\n",
      "Verifying transaction: / \b\b- \b\b\\ \b\b| \b\b/ \b\b- \b\b\\ \b\b| \b\b/ \b\b- \b\b\\ \b\b| \b\b/ \b\b- \b\b\\ \b\b| \b\b/ \b\b- \b\b\\ \b\b| \b\b/ \b\b- \b\b\\ \b\b| \b\b/ \b\b- \b\b\\ \b\b| \b\b/ \b\b- \b\b\\ \b\b| \b\b/ \b\b- \b\b\\ \b\b| \b\b/ \b\b- \b\b\\ \b\b| \b\b/ \b\b- \b\b\\ \b\b| \b\b/ \b\b- \b\b\\ \b\b| \b\b/ \b\b- \b\b\\ \b\b| \b\b/ \b\b- \b\b\\ \b\b| \b\b/ \b\b- \b\bdone\r\n",
      "Executing transaction: | \b\b/ \b\b- \b\b\\ \b\b| \b\b/ \b\b- \b\b\\ \b\b| \b\b/ \b\b- \b\b\\ \b\b| \b\b/ \b\b- \b\b\\ \b\b| \b\b/ \b\b- \b\b\\ \b\b| \b\b/ \b\b- \b\b\\ \b\b| \b\b/ \b\b- \b\b\\ \b\b| \b\b/ \b\b- \b\b\\ \b\b| \b\b/ \b\b- \b\b\\ \b\b| \b\b/ \b\b- \b\b\\ \b\b| \b\b/ \b\b- \b\b\\ \b\b| \b\b/ \b\b- \b\b\\ \b\b| \b\bdone\r\n"
     ]
    }
   ],
   "source": [
    "!conda install ../input/how-to-use-pyvips-offline/*.tar.bz2\n"
   ]
  },
  {
   "cell_type": "code",
   "execution_count": 3,
   "id": "8b27a313",
   "metadata": {
    "execution": {
     "iopub.execute_input": "2022-08-18T08:18:31.494459Z",
     "iopub.status.busy": "2022-08-18T08:18:31.494096Z",
     "iopub.status.idle": "2022-08-18T08:18:31.665793Z",
     "shell.execute_reply": "2022-08-18T08:18:31.664786Z"
    },
    "papermill": {
     "duration": 0.191218,
     "end_time": "2022-08-18T08:18:31.668318",
     "exception": false,
     "start_time": "2022-08-18T08:18:31.477100",
     "status": "completed"
    },
    "tags": []
   },
   "outputs": [],
   "source": [
    "import pyvips"
   ]
  },
  {
   "cell_type": "code",
   "execution_count": 4,
   "id": "cd483856",
   "metadata": {
    "execution": {
     "iopub.execute_input": "2022-08-18T08:18:31.700334Z",
     "iopub.status.busy": "2022-08-18T08:18:31.699970Z",
     "iopub.status.idle": "2022-08-18T08:18:31.704711Z",
     "shell.execute_reply": "2022-08-18T08:18:31.703620Z"
    },
    "papermill": {
     "duration": 0.023285,
     "end_time": "2022-08-18T08:18:31.706974",
     "exception": false,
     "start_time": "2022-08-18T08:18:31.683689",
     "status": "completed"
    },
    "tags": []
   },
   "outputs": [],
   "source": [
    "Image.MAX_IMAGE_PIXELS = None"
   ]
  },
  {
   "cell_type": "code",
   "execution_count": 5,
   "id": "a3f3b09c",
   "metadata": {
    "execution": {
     "iopub.execute_input": "2022-08-18T08:18:31.741147Z",
     "iopub.status.busy": "2022-08-18T08:18:31.739301Z",
     "iopub.status.idle": "2022-08-18T08:18:31.788429Z",
     "shell.execute_reply": "2022-08-18T08:18:31.787466Z"
    },
    "papermill": {
     "duration": 0.068735,
     "end_time": "2022-08-18T08:18:31.790877",
     "exception": false,
     "start_time": "2022-08-18T08:18:31.722142",
     "status": "completed"
    },
    "tags": []
   },
   "outputs": [
    {
     "data": {
      "text/html": [
       "<div>\n",
       "<style scoped>\n",
       "    .dataframe tbody tr th:only-of-type {\n",
       "        vertical-align: middle;\n",
       "    }\n",
       "\n",
       "    .dataframe tbody tr th {\n",
       "        vertical-align: top;\n",
       "    }\n",
       "\n",
       "    .dataframe thead th {\n",
       "        text-align: right;\n",
       "    }\n",
       "</style>\n",
       "<table border=\"1\" class=\"dataframe\">\n",
       "  <thead>\n",
       "    <tr style=\"text-align: right;\">\n",
       "      <th></th>\n",
       "      <th>image_id</th>\n",
       "      <th>center_id</th>\n",
       "      <th>patient_id</th>\n",
       "      <th>image_num</th>\n",
       "      <th>label</th>\n",
       "    </tr>\n",
       "  </thead>\n",
       "  <tbody>\n",
       "    <tr>\n",
       "      <th>0</th>\n",
       "      <td>006388_0</td>\n",
       "      <td>11</td>\n",
       "      <td>006388</td>\n",
       "      <td>0</td>\n",
       "      <td>CE</td>\n",
       "    </tr>\n",
       "    <tr>\n",
       "      <th>1</th>\n",
       "      <td>008e5c_0</td>\n",
       "      <td>11</td>\n",
       "      <td>008e5c</td>\n",
       "      <td>0</td>\n",
       "      <td>CE</td>\n",
       "    </tr>\n",
       "    <tr>\n",
       "      <th>2</th>\n",
       "      <td>00c058_0</td>\n",
       "      <td>11</td>\n",
       "      <td>00c058</td>\n",
       "      <td>0</td>\n",
       "      <td>LAA</td>\n",
       "    </tr>\n",
       "    <tr>\n",
       "      <th>3</th>\n",
       "      <td>01adc5_0</td>\n",
       "      <td>11</td>\n",
       "      <td>01adc5</td>\n",
       "      <td>0</td>\n",
       "      <td>LAA</td>\n",
       "    </tr>\n",
       "    <tr>\n",
       "      <th>4</th>\n",
       "      <td>026c97_0</td>\n",
       "      <td>4</td>\n",
       "      <td>026c97</td>\n",
       "      <td>0</td>\n",
       "      <td>CE</td>\n",
       "    </tr>\n",
       "    <tr>\n",
       "      <th>...</th>\n",
       "      <td>...</td>\n",
       "      <td>...</td>\n",
       "      <td>...</td>\n",
       "      <td>...</td>\n",
       "      <td>...</td>\n",
       "    </tr>\n",
       "    <tr>\n",
       "      <th>749</th>\n",
       "      <td>fe9645_0</td>\n",
       "      <td>3</td>\n",
       "      <td>fe9645</td>\n",
       "      <td>0</td>\n",
       "      <td>CE</td>\n",
       "    </tr>\n",
       "    <tr>\n",
       "      <th>750</th>\n",
       "      <td>fe9bec_0</td>\n",
       "      <td>4</td>\n",
       "      <td>fe9bec</td>\n",
       "      <td>0</td>\n",
       "      <td>LAA</td>\n",
       "    </tr>\n",
       "    <tr>\n",
       "      <th>751</th>\n",
       "      <td>ff14e0_0</td>\n",
       "      <td>6</td>\n",
       "      <td>ff14e0</td>\n",
       "      <td>0</td>\n",
       "      <td>CE</td>\n",
       "    </tr>\n",
       "    <tr>\n",
       "      <th>752</th>\n",
       "      <td>ffec5c_0</td>\n",
       "      <td>7</td>\n",
       "      <td>ffec5c</td>\n",
       "      <td>0</td>\n",
       "      <td>LAA</td>\n",
       "    </tr>\n",
       "    <tr>\n",
       "      <th>753</th>\n",
       "      <td>ffec5c_1</td>\n",
       "      <td>7</td>\n",
       "      <td>ffec5c</td>\n",
       "      <td>1</td>\n",
       "      <td>LAA</td>\n",
       "    </tr>\n",
       "  </tbody>\n",
       "</table>\n",
       "<p>754 rows × 5 columns</p>\n",
       "</div>"
      ],
      "text/plain": [
       "     image_id  center_id patient_id  image_num label\n",
       "0    006388_0         11     006388          0    CE\n",
       "1    008e5c_0         11     008e5c          0    CE\n",
       "2    00c058_0         11     00c058          0   LAA\n",
       "3    01adc5_0         11     01adc5          0   LAA\n",
       "4    026c97_0          4     026c97          0    CE\n",
       "..        ...        ...        ...        ...   ...\n",
       "749  fe9645_0          3     fe9645          0    CE\n",
       "750  fe9bec_0          4     fe9bec          0   LAA\n",
       "751  ff14e0_0          6     ff14e0          0    CE\n",
       "752  ffec5c_0          7     ffec5c          0   LAA\n",
       "753  ffec5c_1          7     ffec5c          1   LAA\n",
       "\n",
       "[754 rows x 5 columns]"
      ]
     },
     "metadata": {},
     "output_type": "display_data"
    }
   ],
   "source": [
    "train_data = pd.read_csv(\"../input/mayo-clinic-strip-ai/train.csv\")\n",
    "test_data = pd.read_csv(\"../input/mayo-clinic-strip-ai/test.csv\")\n",
    "display(train_data)"
   ]
  },
  {
   "cell_type": "code",
   "execution_count": 6,
   "id": "48188ca2",
   "metadata": {
    "execution": {
     "iopub.execute_input": "2022-08-18T08:18:31.823957Z",
     "iopub.status.busy": "2022-08-18T08:18:31.823616Z",
     "iopub.status.idle": "2022-08-18T08:18:31.958353Z",
     "shell.execute_reply": "2022-08-18T08:18:31.957239Z"
    },
    "papermill": {
     "duration": 0.153993,
     "end_time": "2022-08-18T08:18:31.960588",
     "exception": false,
     "start_time": "2022-08-18T08:18:31.806595",
     "status": "completed"
    },
    "tags": []
   },
   "outputs": [
    {
     "data": {
      "text/html": [
       "<div>\n",
       "<style scoped>\n",
       "    .dataframe tbody tr th:only-of-type {\n",
       "        vertical-align: middle;\n",
       "    }\n",
       "\n",
       "    .dataframe tbody tr th {\n",
       "        vertical-align: top;\n",
       "    }\n",
       "\n",
       "    .dataframe thead th {\n",
       "        text-align: right;\n",
       "    }\n",
       "</style>\n",
       "<table border=\"1\" class=\"dataframe\">\n",
       "  <thead>\n",
       "    <tr style=\"text-align: right;\">\n",
       "      <th></th>\n",
       "      <th>Path</th>\n",
       "      <th>image_id</th>\n",
       "    </tr>\n",
       "  </thead>\n",
       "  <tbody>\n",
       "    <tr>\n",
       "      <th>0</th>\n",
       "      <td>../input/mayo-convert-tif-to-jpg/train/c9d53d_...</td>\n",
       "      <td>c9d53d_0</td>\n",
       "    </tr>\n",
       "    <tr>\n",
       "      <th>1</th>\n",
       "      <td>../input/mayo-convert-tif-to-jpg/train/0b7cc8_...</td>\n",
       "      <td>0b7cc8_0</td>\n",
       "    </tr>\n",
       "    <tr>\n",
       "      <th>2</th>\n",
       "      <td>../input/mayo-convert-tif-to-jpg/train/ea2aad_...</td>\n",
       "      <td>ea2aad_0</td>\n",
       "    </tr>\n",
       "    <tr>\n",
       "      <th>3</th>\n",
       "      <td>../input/mayo-convert-tif-to-jpg/train/8cf32b_...</td>\n",
       "      <td>8cf32b_0</td>\n",
       "    </tr>\n",
       "    <tr>\n",
       "      <th>4</th>\n",
       "      <td>../input/mayo-convert-tif-to-jpg/train/46def4_...</td>\n",
       "      <td>46def4_0</td>\n",
       "    </tr>\n",
       "    <tr>\n",
       "      <th>...</th>\n",
       "      <td>...</td>\n",
       "      <td>...</td>\n",
       "    </tr>\n",
       "    <tr>\n",
       "      <th>749</th>\n",
       "      <td>../input/mayo-convert-tif-to-jpg/train/04439c_...</td>\n",
       "      <td>04439c_0</td>\n",
       "    </tr>\n",
       "    <tr>\n",
       "      <th>750</th>\n",
       "      <td>../input/mayo-convert-tif-to-jpg/train/56d177_...</td>\n",
       "      <td>56d177_3</td>\n",
       "    </tr>\n",
       "    <tr>\n",
       "      <th>751</th>\n",
       "      <td>../input/mayo-convert-tif-to-jpg/train/509042_...</td>\n",
       "      <td>509042_0</td>\n",
       "    </tr>\n",
       "    <tr>\n",
       "      <th>752</th>\n",
       "      <td>../input/mayo-convert-tif-to-jpg/train/a26055_...</td>\n",
       "      <td>a26055_0</td>\n",
       "    </tr>\n",
       "    <tr>\n",
       "      <th>753</th>\n",
       "      <td>../input/mayo-convert-tif-to-jpg/train/062387_...</td>\n",
       "      <td>062387_0</td>\n",
       "    </tr>\n",
       "  </tbody>\n",
       "</table>\n",
       "<p>754 rows × 2 columns</p>\n",
       "</div>"
      ],
      "text/plain": [
       "                                                  Path  image_id\n",
       "0    ../input/mayo-convert-tif-to-jpg/train/c9d53d_...  c9d53d_0\n",
       "1    ../input/mayo-convert-tif-to-jpg/train/0b7cc8_...  0b7cc8_0\n",
       "2    ../input/mayo-convert-tif-to-jpg/train/ea2aad_...  ea2aad_0\n",
       "3    ../input/mayo-convert-tif-to-jpg/train/8cf32b_...  8cf32b_0\n",
       "4    ../input/mayo-convert-tif-to-jpg/train/46def4_...  46def4_0\n",
       "..                                                 ...       ...\n",
       "749  ../input/mayo-convert-tif-to-jpg/train/04439c_...  04439c_0\n",
       "750  ../input/mayo-convert-tif-to-jpg/train/56d177_...  56d177_3\n",
       "751  ../input/mayo-convert-tif-to-jpg/train/509042_...  509042_0\n",
       "752  ../input/mayo-convert-tif-to-jpg/train/a26055_...  a26055_0\n",
       "753  ../input/mayo-convert-tif-to-jpg/train/062387_...  062387_0\n",
       "\n",
       "[754 rows x 2 columns]"
      ]
     },
     "execution_count": 6,
     "metadata": {},
     "output_type": "execute_result"
    }
   ],
   "source": [
    "train_df = pd.DataFrame(columns=['Path','image_id'])\n",
    "train_df['Path'] = glob.glob(\"../input/mayo-convert-tif-to-jpg/train/*\")\n",
    "train_df['image_id'] = train_df['Path'].apply(lambda x: x.split('/')[-1].replace('.jpg',\"\"))\n",
    "train_df\n"
   ]
  },
  {
   "cell_type": "code",
   "execution_count": 7,
   "id": "be4b9975",
   "metadata": {
    "execution": {
     "iopub.execute_input": "2022-08-18T08:18:31.995560Z",
     "iopub.status.busy": "2022-08-18T08:18:31.994501Z",
     "iopub.status.idle": "2022-08-18T08:18:32.020490Z",
     "shell.execute_reply": "2022-08-18T08:18:32.019409Z"
    },
    "papermill": {
     "duration": 0.045995,
     "end_time": "2022-08-18T08:18:32.022973",
     "exception": false,
     "start_time": "2022-08-18T08:18:31.976978",
     "status": "completed"
    },
    "tags": []
   },
   "outputs": [
    {
     "data": {
      "text/html": [
       "<div>\n",
       "<style scoped>\n",
       "    .dataframe tbody tr th:only-of-type {\n",
       "        vertical-align: middle;\n",
       "    }\n",
       "\n",
       "    .dataframe tbody tr th {\n",
       "        vertical-align: top;\n",
       "    }\n",
       "\n",
       "    .dataframe thead th {\n",
       "        text-align: right;\n",
       "    }\n",
       "</style>\n",
       "<table border=\"1\" class=\"dataframe\">\n",
       "  <thead>\n",
       "    <tr style=\"text-align: right;\">\n",
       "      <th></th>\n",
       "      <th>image_id</th>\n",
       "      <th>center_id</th>\n",
       "      <th>patient_id</th>\n",
       "      <th>image_num</th>\n",
       "      <th>label</th>\n",
       "      <th>Path</th>\n",
       "    </tr>\n",
       "  </thead>\n",
       "  <tbody>\n",
       "    <tr>\n",
       "      <th>0</th>\n",
       "      <td>006388_0</td>\n",
       "      <td>11</td>\n",
       "      <td>006388</td>\n",
       "      <td>0</td>\n",
       "      <td>CE</td>\n",
       "      <td>../input/mayo-convert-tif-to-jpg/train/006388_...</td>\n",
       "    </tr>\n",
       "    <tr>\n",
       "      <th>1</th>\n",
       "      <td>008e5c_0</td>\n",
       "      <td>11</td>\n",
       "      <td>008e5c</td>\n",
       "      <td>0</td>\n",
       "      <td>CE</td>\n",
       "      <td>../input/mayo-convert-tif-to-jpg/train/008e5c_...</td>\n",
       "    </tr>\n",
       "    <tr>\n",
       "      <th>2</th>\n",
       "      <td>00c058_0</td>\n",
       "      <td>11</td>\n",
       "      <td>00c058</td>\n",
       "      <td>0</td>\n",
       "      <td>LAA</td>\n",
       "      <td>../input/mayo-convert-tif-to-jpg/train/00c058_...</td>\n",
       "    </tr>\n",
       "    <tr>\n",
       "      <th>3</th>\n",
       "      <td>01adc5_0</td>\n",
       "      <td>11</td>\n",
       "      <td>01adc5</td>\n",
       "      <td>0</td>\n",
       "      <td>LAA</td>\n",
       "      <td>../input/mayo-convert-tif-to-jpg/train/01adc5_...</td>\n",
       "    </tr>\n",
       "    <tr>\n",
       "      <th>4</th>\n",
       "      <td>026c97_0</td>\n",
       "      <td>4</td>\n",
       "      <td>026c97</td>\n",
       "      <td>0</td>\n",
       "      <td>CE</td>\n",
       "      <td>../input/mayo-convert-tif-to-jpg/train/026c97_...</td>\n",
       "    </tr>\n",
       "    <tr>\n",
       "      <th>...</th>\n",
       "      <td>...</td>\n",
       "      <td>...</td>\n",
       "      <td>...</td>\n",
       "      <td>...</td>\n",
       "      <td>...</td>\n",
       "      <td>...</td>\n",
       "    </tr>\n",
       "    <tr>\n",
       "      <th>749</th>\n",
       "      <td>fe9645_0</td>\n",
       "      <td>3</td>\n",
       "      <td>fe9645</td>\n",
       "      <td>0</td>\n",
       "      <td>CE</td>\n",
       "      <td>../input/mayo-convert-tif-to-jpg/train/fe9645_...</td>\n",
       "    </tr>\n",
       "    <tr>\n",
       "      <th>750</th>\n",
       "      <td>fe9bec_0</td>\n",
       "      <td>4</td>\n",
       "      <td>fe9bec</td>\n",
       "      <td>0</td>\n",
       "      <td>LAA</td>\n",
       "      <td>../input/mayo-convert-tif-to-jpg/train/fe9bec_...</td>\n",
       "    </tr>\n",
       "    <tr>\n",
       "      <th>751</th>\n",
       "      <td>ff14e0_0</td>\n",
       "      <td>6</td>\n",
       "      <td>ff14e0</td>\n",
       "      <td>0</td>\n",
       "      <td>CE</td>\n",
       "      <td>../input/mayo-convert-tif-to-jpg/train/ff14e0_...</td>\n",
       "    </tr>\n",
       "    <tr>\n",
       "      <th>752</th>\n",
       "      <td>ffec5c_0</td>\n",
       "      <td>7</td>\n",
       "      <td>ffec5c</td>\n",
       "      <td>0</td>\n",
       "      <td>LAA</td>\n",
       "      <td>../input/mayo-convert-tif-to-jpg/train/ffec5c_...</td>\n",
       "    </tr>\n",
       "    <tr>\n",
       "      <th>753</th>\n",
       "      <td>ffec5c_1</td>\n",
       "      <td>7</td>\n",
       "      <td>ffec5c</td>\n",
       "      <td>1</td>\n",
       "      <td>LAA</td>\n",
       "      <td>../input/mayo-convert-tif-to-jpg/train/ffec5c_...</td>\n",
       "    </tr>\n",
       "  </tbody>\n",
       "</table>\n",
       "<p>754 rows × 6 columns</p>\n",
       "</div>"
      ],
      "text/plain": [
       "     image_id  center_id patient_id  image_num label  \\\n",
       "0    006388_0         11     006388          0    CE   \n",
       "1    008e5c_0         11     008e5c          0    CE   \n",
       "2    00c058_0         11     00c058          0   LAA   \n",
       "3    01adc5_0         11     01adc5          0   LAA   \n",
       "4    026c97_0          4     026c97          0    CE   \n",
       "..        ...        ...        ...        ...   ...   \n",
       "749  fe9645_0          3     fe9645          0    CE   \n",
       "750  fe9bec_0          4     fe9bec          0   LAA   \n",
       "751  ff14e0_0          6     ff14e0          0    CE   \n",
       "752  ffec5c_0          7     ffec5c          0   LAA   \n",
       "753  ffec5c_1          7     ffec5c          1   LAA   \n",
       "\n",
       "                                                  Path  \n",
       "0    ../input/mayo-convert-tif-to-jpg/train/006388_...  \n",
       "1    ../input/mayo-convert-tif-to-jpg/train/008e5c_...  \n",
       "2    ../input/mayo-convert-tif-to-jpg/train/00c058_...  \n",
       "3    ../input/mayo-convert-tif-to-jpg/train/01adc5_...  \n",
       "4    ../input/mayo-convert-tif-to-jpg/train/026c97_...  \n",
       "..                                                 ...  \n",
       "749  ../input/mayo-convert-tif-to-jpg/train/fe9645_...  \n",
       "750  ../input/mayo-convert-tif-to-jpg/train/fe9bec_...  \n",
       "751  ../input/mayo-convert-tif-to-jpg/train/ff14e0_...  \n",
       "752  ../input/mayo-convert-tif-to-jpg/train/ffec5c_...  \n",
       "753  ../input/mayo-convert-tif-to-jpg/train/ffec5c_...  \n",
       "\n",
       "[754 rows x 6 columns]"
      ]
     },
     "execution_count": 7,
     "metadata": {},
     "output_type": "execute_result"
    }
   ],
   "source": [
    "train_data = train_data.merge(train_df,on='image_id')\n",
    "train_data"
   ]
  },
  {
   "cell_type": "code",
   "execution_count": 8,
   "id": "d9f85253",
   "metadata": {
    "execution": {
     "iopub.execute_input": "2022-08-18T08:18:32.056877Z",
     "iopub.status.busy": "2022-08-18T08:18:32.055063Z",
     "iopub.status.idle": "2022-08-18T08:18:32.072757Z",
     "shell.execute_reply": "2022-08-18T08:18:32.071617Z"
    },
    "papermill": {
     "duration": 0.036484,
     "end_time": "2022-08-18T08:18:32.075344",
     "exception": false,
     "start_time": "2022-08-18T08:18:32.038860",
     "status": "completed"
    },
    "tags": []
   },
   "outputs": [
    {
     "data": {
      "text/html": [
       "<div>\n",
       "<style scoped>\n",
       "    .dataframe tbody tr th:only-of-type {\n",
       "        vertical-align: middle;\n",
       "    }\n",
       "\n",
       "    .dataframe tbody tr th {\n",
       "        vertical-align: top;\n",
       "    }\n",
       "\n",
       "    .dataframe thead th {\n",
       "        text-align: right;\n",
       "    }\n",
       "</style>\n",
       "<table border=\"1\" class=\"dataframe\">\n",
       "  <thead>\n",
       "    <tr style=\"text-align: right;\">\n",
       "      <th></th>\n",
       "      <th>image_id</th>\n",
       "      <th>center_id</th>\n",
       "      <th>patient_id</th>\n",
       "      <th>image_num</th>\n",
       "      <th>label</th>\n",
       "      <th>Path</th>\n",
       "    </tr>\n",
       "  </thead>\n",
       "  <tbody>\n",
       "    <tr>\n",
       "      <th>0</th>\n",
       "      <td>006388_0</td>\n",
       "      <td>11</td>\n",
       "      <td>006388</td>\n",
       "      <td>0</td>\n",
       "      <td>0</td>\n",
       "      <td>../input/mayo-convert-tif-to-jpg/train/006388_...</td>\n",
       "    </tr>\n",
       "    <tr>\n",
       "      <th>1</th>\n",
       "      <td>008e5c_0</td>\n",
       "      <td>11</td>\n",
       "      <td>008e5c</td>\n",
       "      <td>0</td>\n",
       "      <td>0</td>\n",
       "      <td>../input/mayo-convert-tif-to-jpg/train/008e5c_...</td>\n",
       "    </tr>\n",
       "    <tr>\n",
       "      <th>2</th>\n",
       "      <td>00c058_0</td>\n",
       "      <td>11</td>\n",
       "      <td>00c058</td>\n",
       "      <td>0</td>\n",
       "      <td>1</td>\n",
       "      <td>../input/mayo-convert-tif-to-jpg/train/00c058_...</td>\n",
       "    </tr>\n",
       "    <tr>\n",
       "      <th>3</th>\n",
       "      <td>01adc5_0</td>\n",
       "      <td>11</td>\n",
       "      <td>01adc5</td>\n",
       "      <td>0</td>\n",
       "      <td>1</td>\n",
       "      <td>../input/mayo-convert-tif-to-jpg/train/01adc5_...</td>\n",
       "    </tr>\n",
       "    <tr>\n",
       "      <th>4</th>\n",
       "      <td>026c97_0</td>\n",
       "      <td>4</td>\n",
       "      <td>026c97</td>\n",
       "      <td>0</td>\n",
       "      <td>0</td>\n",
       "      <td>../input/mayo-convert-tif-to-jpg/train/026c97_...</td>\n",
       "    </tr>\n",
       "    <tr>\n",
       "      <th>...</th>\n",
       "      <td>...</td>\n",
       "      <td>...</td>\n",
       "      <td>...</td>\n",
       "      <td>...</td>\n",
       "      <td>...</td>\n",
       "      <td>...</td>\n",
       "    </tr>\n",
       "    <tr>\n",
       "      <th>749</th>\n",
       "      <td>fe9645_0</td>\n",
       "      <td>3</td>\n",
       "      <td>fe9645</td>\n",
       "      <td>0</td>\n",
       "      <td>0</td>\n",
       "      <td>../input/mayo-convert-tif-to-jpg/train/fe9645_...</td>\n",
       "    </tr>\n",
       "    <tr>\n",
       "      <th>750</th>\n",
       "      <td>fe9bec_0</td>\n",
       "      <td>4</td>\n",
       "      <td>fe9bec</td>\n",
       "      <td>0</td>\n",
       "      <td>1</td>\n",
       "      <td>../input/mayo-convert-tif-to-jpg/train/fe9bec_...</td>\n",
       "    </tr>\n",
       "    <tr>\n",
       "      <th>751</th>\n",
       "      <td>ff14e0_0</td>\n",
       "      <td>6</td>\n",
       "      <td>ff14e0</td>\n",
       "      <td>0</td>\n",
       "      <td>0</td>\n",
       "      <td>../input/mayo-convert-tif-to-jpg/train/ff14e0_...</td>\n",
       "    </tr>\n",
       "    <tr>\n",
       "      <th>752</th>\n",
       "      <td>ffec5c_0</td>\n",
       "      <td>7</td>\n",
       "      <td>ffec5c</td>\n",
       "      <td>0</td>\n",
       "      <td>1</td>\n",
       "      <td>../input/mayo-convert-tif-to-jpg/train/ffec5c_...</td>\n",
       "    </tr>\n",
       "    <tr>\n",
       "      <th>753</th>\n",
       "      <td>ffec5c_1</td>\n",
       "      <td>7</td>\n",
       "      <td>ffec5c</td>\n",
       "      <td>1</td>\n",
       "      <td>1</td>\n",
       "      <td>../input/mayo-convert-tif-to-jpg/train/ffec5c_...</td>\n",
       "    </tr>\n",
       "  </tbody>\n",
       "</table>\n",
       "<p>754 rows × 6 columns</p>\n",
       "</div>"
      ],
      "text/plain": [
       "     image_id  center_id patient_id  image_num  label  \\\n",
       "0    006388_0         11     006388          0      0   \n",
       "1    008e5c_0         11     008e5c          0      0   \n",
       "2    00c058_0         11     00c058          0      1   \n",
       "3    01adc5_0         11     01adc5          0      1   \n",
       "4    026c97_0          4     026c97          0      0   \n",
       "..        ...        ...        ...        ...    ...   \n",
       "749  fe9645_0          3     fe9645          0      0   \n",
       "750  fe9bec_0          4     fe9bec          0      1   \n",
       "751  ff14e0_0          6     ff14e0          0      0   \n",
       "752  ffec5c_0          7     ffec5c          0      1   \n",
       "753  ffec5c_1          7     ffec5c          1      1   \n",
       "\n",
       "                                                  Path  \n",
       "0    ../input/mayo-convert-tif-to-jpg/train/006388_...  \n",
       "1    ../input/mayo-convert-tif-to-jpg/train/008e5c_...  \n",
       "2    ../input/mayo-convert-tif-to-jpg/train/00c058_...  \n",
       "3    ../input/mayo-convert-tif-to-jpg/train/01adc5_...  \n",
       "4    ../input/mayo-convert-tif-to-jpg/train/026c97_...  \n",
       "..                                                 ...  \n",
       "749  ../input/mayo-convert-tif-to-jpg/train/fe9645_...  \n",
       "750  ../input/mayo-convert-tif-to-jpg/train/fe9bec_...  \n",
       "751  ../input/mayo-convert-tif-to-jpg/train/ff14e0_...  \n",
       "752  ../input/mayo-convert-tif-to-jpg/train/ffec5c_...  \n",
       "753  ../input/mayo-convert-tif-to-jpg/train/ffec5c_...  \n",
       "\n",
       "[754 rows x 6 columns]"
      ]
     },
     "execution_count": 8,
     "metadata": {},
     "output_type": "execute_result"
    }
   ],
   "source": [
    "le = LabelEncoder()\n",
    "train_data['label'] = le.fit_transform(train_data['label'])\n",
    "train_data\n"
   ]
  },
  {
   "cell_type": "markdown",
   "id": "4d071fbd",
   "metadata": {
    "papermill": {
     "duration": 0.016038,
     "end_time": "2022-08-18T08:18:32.107728",
     "exception": false,
     "start_time": "2022-08-18T08:18:32.091690",
     "status": "completed"
    },
    "tags": []
   },
   "source": [
    "(Try reducing number of CE data in training )\n"
   ]
  },
  {
   "cell_type": "code",
   "execution_count": 9,
   "id": "72374fd6",
   "metadata": {
    "execution": {
     "iopub.execute_input": "2022-08-18T08:18:32.142325Z",
     "iopub.status.busy": "2022-08-18T08:18:32.141407Z",
     "iopub.status.idle": "2022-08-18T08:18:32.164439Z",
     "shell.execute_reply": "2022-08-18T08:18:32.163256Z"
    },
    "papermill": {
     "duration": 0.04315,
     "end_time": "2022-08-18T08:18:32.166948",
     "exception": false,
     "start_time": "2022-08-18T08:18:32.123798",
     "status": "completed"
    },
    "tags": []
   },
   "outputs": [
    {
     "data": {
      "text/html": [
       "<div>\n",
       "<style scoped>\n",
       "    .dataframe tbody tr th:only-of-type {\n",
       "        vertical-align: middle;\n",
       "    }\n",
       "\n",
       "    .dataframe tbody tr th {\n",
       "        vertical-align: top;\n",
       "    }\n",
       "\n",
       "    .dataframe thead th {\n",
       "        text-align: right;\n",
       "    }\n",
       "</style>\n",
       "<table border=\"1\" class=\"dataframe\">\n",
       "  <thead>\n",
       "    <tr style=\"text-align: right;\">\n",
       "      <th></th>\n",
       "      <th>image_id</th>\n",
       "      <th>center_id</th>\n",
       "      <th>patient_id</th>\n",
       "      <th>image_num</th>\n",
       "      <th>label</th>\n",
       "      <th>Path</th>\n",
       "    </tr>\n",
       "  </thead>\n",
       "  <tbody>\n",
       "    <tr>\n",
       "      <th>0</th>\n",
       "      <td>b7f78e_0</td>\n",
       "      <td>3</td>\n",
       "      <td>b7f78e</td>\n",
       "      <td>0</td>\n",
       "      <td>0</td>\n",
       "      <td>../input/mayo-convert-tif-to-jpg/train/b7f78e_...</td>\n",
       "    </tr>\n",
       "    <tr>\n",
       "      <th>1</th>\n",
       "      <td>029c68_0</td>\n",
       "      <td>5</td>\n",
       "      <td>029c68</td>\n",
       "      <td>0</td>\n",
       "      <td>0</td>\n",
       "      <td>../input/mayo-convert-tif-to-jpg/train/029c68_...</td>\n",
       "    </tr>\n",
       "    <tr>\n",
       "      <th>2</th>\n",
       "      <td>2f4974_0</td>\n",
       "      <td>11</td>\n",
       "      <td>2f4974</td>\n",
       "      <td>0</td>\n",
       "      <td>0</td>\n",
       "      <td>../input/mayo-convert-tif-to-jpg/train/2f4974_...</td>\n",
       "    </tr>\n",
       "    <tr>\n",
       "      <th>3</th>\n",
       "      <td>c1b288_0</td>\n",
       "      <td>11</td>\n",
       "      <td>c1b288</td>\n",
       "      <td>0</td>\n",
       "      <td>0</td>\n",
       "      <td>../input/mayo-convert-tif-to-jpg/train/c1b288_...</td>\n",
       "    </tr>\n",
       "    <tr>\n",
       "      <th>4</th>\n",
       "      <td>7f343b_0</td>\n",
       "      <td>11</td>\n",
       "      <td>7f343b</td>\n",
       "      <td>0</td>\n",
       "      <td>0</td>\n",
       "      <td>../input/mayo-convert-tif-to-jpg/train/7f343b_...</td>\n",
       "    </tr>\n",
       "    <tr>\n",
       "      <th>...</th>\n",
       "      <td>...</td>\n",
       "      <td>...</td>\n",
       "      <td>...</td>\n",
       "      <td>...</td>\n",
       "      <td>...</td>\n",
       "      <td>...</td>\n",
       "    </tr>\n",
       "    <tr>\n",
       "      <th>560</th>\n",
       "      <td>45c6ce_0</td>\n",
       "      <td>11</td>\n",
       "      <td>45c6ce</td>\n",
       "      <td>0</td>\n",
       "      <td>0</td>\n",
       "      <td>../input/mayo-convert-tif-to-jpg/train/45c6ce_...</td>\n",
       "    </tr>\n",
       "    <tr>\n",
       "      <th>561</th>\n",
       "      <td>0bd414_0</td>\n",
       "      <td>3</td>\n",
       "      <td>0bd414</td>\n",
       "      <td>0</td>\n",
       "      <td>1</td>\n",
       "      <td>../input/mayo-convert-tif-to-jpg/train/0bd414_...</td>\n",
       "    </tr>\n",
       "    <tr>\n",
       "      <th>562</th>\n",
       "      <td>4550fb_0</td>\n",
       "      <td>11</td>\n",
       "      <td>4550fb</td>\n",
       "      <td>0</td>\n",
       "      <td>0</td>\n",
       "      <td>../input/mayo-convert-tif-to-jpg/train/4550fb_...</td>\n",
       "    </tr>\n",
       "    <tr>\n",
       "      <th>563</th>\n",
       "      <td>8b90fa_0</td>\n",
       "      <td>11</td>\n",
       "      <td>8b90fa</td>\n",
       "      <td>0</td>\n",
       "      <td>0</td>\n",
       "      <td>../input/mayo-convert-tif-to-jpg/train/8b90fa_...</td>\n",
       "    </tr>\n",
       "    <tr>\n",
       "      <th>564</th>\n",
       "      <td>862501_0</td>\n",
       "      <td>7</td>\n",
       "      <td>862501</td>\n",
       "      <td>0</td>\n",
       "      <td>1</td>\n",
       "      <td>../input/mayo-convert-tif-to-jpg/train/862501_...</td>\n",
       "    </tr>\n",
       "  </tbody>\n",
       "</table>\n",
       "<p>565 rows × 6 columns</p>\n",
       "</div>"
      ],
      "text/plain": [
       "     image_id  center_id patient_id  image_num  label  \\\n",
       "0    b7f78e_0          3     b7f78e          0      0   \n",
       "1    029c68_0          5     029c68          0      0   \n",
       "2    2f4974_0         11     2f4974          0      0   \n",
       "3    c1b288_0         11     c1b288          0      0   \n",
       "4    7f343b_0         11     7f343b          0      0   \n",
       "..        ...        ...        ...        ...    ...   \n",
       "560  45c6ce_0         11     45c6ce          0      0   \n",
       "561  0bd414_0          3     0bd414          0      1   \n",
       "562  4550fb_0         11     4550fb          0      0   \n",
       "563  8b90fa_0         11     8b90fa          0      0   \n",
       "564  862501_0          7     862501          0      1   \n",
       "\n",
       "                                                  Path  \n",
       "0    ../input/mayo-convert-tif-to-jpg/train/b7f78e_...  \n",
       "1    ../input/mayo-convert-tif-to-jpg/train/029c68_...  \n",
       "2    ../input/mayo-convert-tif-to-jpg/train/2f4974_...  \n",
       "3    ../input/mayo-convert-tif-to-jpg/train/c1b288_...  \n",
       "4    ../input/mayo-convert-tif-to-jpg/train/7f343b_...  \n",
       "..                                                 ...  \n",
       "560  ../input/mayo-convert-tif-to-jpg/train/45c6ce_...  \n",
       "561  ../input/mayo-convert-tif-to-jpg/train/0bd414_...  \n",
       "562  ../input/mayo-convert-tif-to-jpg/train/4550fb_...  \n",
       "563  ../input/mayo-convert-tif-to-jpg/train/8b90fa_...  \n",
       "564  ../input/mayo-convert-tif-to-jpg/train/862501_...  \n",
       "\n",
       "[565 rows x 6 columns]"
      ]
     },
     "execution_count": 9,
     "metadata": {},
     "output_type": "execute_result"
    }
   ],
   "source": [
    "y = train_data[\"label\"]\n",
    "train, test = train_test_split(train_data, test_size=0.25, stratify = y)\n",
    "\n",
    "train = train.reset_index(drop=True)\n",
    "train"
   ]
  },
  {
   "cell_type": "code",
   "execution_count": 10,
   "id": "466a21f5",
   "metadata": {
    "execution": {
     "iopub.execute_input": "2022-08-18T08:18:32.201537Z",
     "iopub.status.busy": "2022-08-18T08:18:32.200861Z",
     "iopub.status.idle": "2022-08-18T08:18:32.212342Z",
     "shell.execute_reply": "2022-08-18T08:18:32.211281Z"
    },
    "papermill": {
     "duration": 0.031137,
     "end_time": "2022-08-18T08:18:32.214745",
     "exception": false,
     "start_time": "2022-08-18T08:18:32.183608",
     "status": "completed"
    },
    "tags": []
   },
   "outputs": [
    {
     "data": {
      "text/plain": [
       "0    410\n",
       "1    155\n",
       "Name: label, dtype: int64"
      ]
     },
     "execution_count": 10,
     "metadata": {},
     "output_type": "execute_result"
    }
   ],
   "source": [
    "train['label'].value_counts()"
   ]
  },
  {
   "cell_type": "markdown",
   "id": "ad7ed1ff",
   "metadata": {
    "papermill": {
     "duration": 0.016044,
     "end_time": "2022-08-18T08:18:32.247356",
     "exception": false,
     "start_time": "2022-08-18T08:18:32.231312",
     "status": "completed"
    },
    "tags": []
   },
   "source": [
    "Building Custom Generator"
   ]
  },
  {
   "cell_type": "code",
   "execution_count": 11,
   "id": "b6e127cb",
   "metadata": {
    "execution": {
     "iopub.execute_input": "2022-08-18T08:18:32.281524Z",
     "iopub.status.busy": "2022-08-18T08:18:32.281191Z",
     "iopub.status.idle": "2022-08-18T08:18:32.295101Z",
     "shell.execute_reply": "2022-08-18T08:18:32.294023Z"
    },
    "papermill": {
     "duration": 0.034303,
     "end_time": "2022-08-18T08:18:32.297634",
     "exception": false,
     "start_time": "2022-08-18T08:18:32.263331",
     "status": "completed"
    },
    "tags": []
   },
   "outputs": [],
   "source": [
    "class DataGenerator(Sequence):\n",
    "    'Generates data for Keras'\n",
    "    def __init__(self, df, batch_size=8, n_classes=2, shuffle=False,to_fit=True):\n",
    "        'Initialization'\n",
    "        self.df = df\n",
    "        self.to_fit = to_fit\n",
    "        self.batch_size = batch_size\n",
    "        self.indexes = np.arange(len(self.df))\n",
    "        self.n_classes = n_classes\n",
    "        self.shuffle = shuffle\n",
    "        self.augmentor = ImageDataGenerator(\n",
    "            rotation_range=40,\n",
    "            width_shift_range=0.2,\n",
    "            height_shift_range=0.2,\n",
    "            shear_range=0.2,\n",
    "            zoom_range=0.2,\n",
    "            horizontal_flip=True,\n",
    "            fill_mode='nearest'\n",
    "        )\n",
    "        self.on_epoch_end()\n",
    "    def __len__(self):\n",
    "        return int(np.floor(len(self.df) / self.batch_size))\n",
    "    \n",
    "    def on_epoch_end(self):\n",
    "        'Updates indexes after each epoch'\n",
    "        if self.shuffle == True:\n",
    "            np.random.shuffle(self.indexes)\n",
    "            \n",
    "    def __getitem__(self, index):\n",
    "        indexes = self.indexes[index*self.batch_size: (index+1)*self.batch_size]\n",
    "        X = np.empty((self.batch_size,512,512,3),dtype=np.float32)\n",
    "        y = np.empty((self.batch_size,1),dtype=np.float32)\n",
    "        \n",
    "        if self.to_fit == True:\n",
    "            \n",
    "            for i, img_path in enumerate(self.df['Path'].iloc[indexes]):\n",
    "                img = self.read_img(img_path)\n",
    "                X[i,] = img\n",
    "                y[i] = self.df['label'].iloc[indexes[i]]\n",
    "            X_gen = self.augmentor.flow(X, batch_size=self.batch_size, shuffle=False)\n",
    "            \n",
    "            return next(X_gen), y\n",
    "        \n",
    "        else:\n",
    "            for i, img_path in enumerate(self.df['Path'].iloc[indexes]):\n",
    "                img = self.read_img(img_path)\n",
    "                X[i,] = img\n",
    "                \n",
    "            return X\n",
    "        \n",
    "        \n",
    "    def read_img(self, path):\n",
    "        image =  pyvips.Image.thumbnail(path,512,height=512,size='force')\n",
    "        image = np.asarray(image)\n",
    "        image = image.astype(np.float32)\n",
    "        return image/255\n",
    "        "
   ]
  },
  {
   "cell_type": "code",
   "execution_count": 12,
   "id": "eee5286c",
   "metadata": {
    "execution": {
     "iopub.execute_input": "2022-08-18T08:18:32.332085Z",
     "iopub.status.busy": "2022-08-18T08:18:32.331740Z",
     "iopub.status.idle": "2022-08-18T08:18:32.337233Z",
     "shell.execute_reply": "2022-08-18T08:18:32.336131Z"
    },
    "papermill": {
     "duration": 0.025217,
     "end_time": "2022-08-18T08:18:32.339468",
     "exception": false,
     "start_time": "2022-08-18T08:18:32.314251",
     "status": "completed"
    },
    "tags": []
   },
   "outputs": [],
   "source": [
    "training_generator = DataGenerator(train,shuffle = True)\n",
    "val_generator = DataGenerator(test,shuffle = True)"
   ]
  },
  {
   "cell_type": "code",
   "execution_count": 13,
   "id": "58990f9a",
   "metadata": {
    "execution": {
     "iopub.execute_input": "2022-08-18T08:18:32.373968Z",
     "iopub.status.busy": "2022-08-18T08:18:32.373004Z",
     "iopub.status.idle": "2022-08-18T08:18:35.565938Z",
     "shell.execute_reply": "2022-08-18T08:18:35.563418Z"
    },
    "papermill": {
     "duration": 3.213073,
     "end_time": "2022-08-18T08:18:35.568992",
     "exception": false,
     "start_time": "2022-08-18T08:18:32.355919",
     "status": "completed"
    },
    "tags": []
   },
   "outputs": [
    {
     "name": "stderr",
     "output_type": "stream",
     "text": [
      "2022-08-18 08:18:32.474674: I tensorflow/stream_executor/cuda/cuda_gpu_executor.cc:937] successful NUMA node read from SysFS had negative value (-1), but there must be at least one NUMA node, so returning NUMA node zero\n",
      "2022-08-18 08:18:32.610114: I tensorflow/stream_executor/cuda/cuda_gpu_executor.cc:937] successful NUMA node read from SysFS had negative value (-1), but there must be at least one NUMA node, so returning NUMA node zero\n",
      "2022-08-18 08:18:32.611059: I tensorflow/stream_executor/cuda/cuda_gpu_executor.cc:937] successful NUMA node read from SysFS had negative value (-1), but there must be at least one NUMA node, so returning NUMA node zero\n",
      "2022-08-18 08:18:32.612853: I tensorflow/core/platform/cpu_feature_guard.cc:142] This TensorFlow binary is optimized with oneAPI Deep Neural Network Library (oneDNN) to use the following CPU instructions in performance-critical operations:  AVX2 AVX512F FMA\n",
      "To enable them in other operations, rebuild TensorFlow with the appropriate compiler flags.\n",
      "2022-08-18 08:18:32.613225: I tensorflow/stream_executor/cuda/cuda_gpu_executor.cc:937] successful NUMA node read from SysFS had negative value (-1), but there must be at least one NUMA node, so returning NUMA node zero\n",
      "2022-08-18 08:18:32.614117: I tensorflow/stream_executor/cuda/cuda_gpu_executor.cc:937] successful NUMA node read from SysFS had negative value (-1), but there must be at least one NUMA node, so returning NUMA node zero\n",
      "2022-08-18 08:18:32.614846: I tensorflow/stream_executor/cuda/cuda_gpu_executor.cc:937] successful NUMA node read from SysFS had negative value (-1), but there must be at least one NUMA node, so returning NUMA node zero\n",
      "2022-08-18 08:18:35.074496: I tensorflow/stream_executor/cuda/cuda_gpu_executor.cc:937] successful NUMA node read from SysFS had negative value (-1), but there must be at least one NUMA node, so returning NUMA node zero\n",
      "2022-08-18 08:18:35.075438: I tensorflow/stream_executor/cuda/cuda_gpu_executor.cc:937] successful NUMA node read from SysFS had negative value (-1), but there must be at least one NUMA node, so returning NUMA node zero\n",
      "2022-08-18 08:18:35.076192: I tensorflow/stream_executor/cuda/cuda_gpu_executor.cc:937] successful NUMA node read from SysFS had negative value (-1), but there must be at least one NUMA node, so returning NUMA node zero\n",
      "2022-08-18 08:18:35.076847: I tensorflow/core/common_runtime/gpu/gpu_device.cc:1510] Created device /job:localhost/replica:0/task:0/device:GPU:0 with 15403 MB memory:  -> device: 0, name: Tesla P100-PCIE-16GB, pci bus id: 0000:00:04.0, compute capability: 6.0\n"
     ]
    }
   ],
   "source": [
    "input_shape=(512,512,3)\n",
    "model = Sequential()\n",
    "model.add(Conv2D(32, kernel_size=(3, 3),\n",
    "                 activation='relu',\n",
    "                 input_shape=input_shape))\n",
    "model.add(Conv2D(64, (3, 3), activation='relu'))\n",
    "model.add(MaxPool2D(pool_size=(2, 2)))\n",
    "model.add(Dropout(0.3))\n",
    "model.add(Flatten())\n",
    "model.add(Dense(128, activation='relu'))\n",
    "#model.add(Dropout(0.5))\n",
    "model.add(Dense(2, activation='softmax'))"
   ]
  },
  {
   "cell_type": "code",
   "execution_count": 14,
   "id": "bd1b2a83",
   "metadata": {
    "execution": {
     "iopub.execute_input": "2022-08-18T08:18:35.601897Z",
     "iopub.status.busy": "2022-08-18T08:18:35.601536Z",
     "iopub.status.idle": "2022-08-18T08:18:35.613719Z",
     "shell.execute_reply": "2022-08-18T08:18:35.612798Z"
    },
    "papermill": {
     "duration": 0.030568,
     "end_time": "2022-08-18T08:18:35.615936",
     "exception": false,
     "start_time": "2022-08-18T08:18:35.585368",
     "status": "completed"
    },
    "tags": []
   },
   "outputs": [],
   "source": [
    "model.compile(loss='binary_crossentropy',\n",
    "              optimizer='adam',\n",
    "              metrics=['accuracy'])"
   ]
  },
  {
   "cell_type": "code",
   "execution_count": 15,
   "id": "fad894e1",
   "metadata": {
    "execution": {
     "iopub.execute_input": "2022-08-18T08:18:35.649074Z",
     "iopub.status.busy": "2022-08-18T08:18:35.648400Z",
     "iopub.status.idle": "2022-08-18T08:18:35.653747Z",
     "shell.execute_reply": "2022-08-18T08:18:35.652852Z"
    },
    "papermill": {
     "duration": 0.023825,
     "end_time": "2022-08-18T08:18:35.655643",
     "exception": false,
     "start_time": "2022-08-18T08:18:35.631818",
     "status": "completed"
    },
    "tags": []
   },
   "outputs": [],
   "source": [
    "os.makedirs('best_model')"
   ]
  },
  {
   "cell_type": "code",
   "execution_count": 16,
   "id": "9b51d802",
   "metadata": {
    "execution": {
     "iopub.execute_input": "2022-08-18T08:18:35.688470Z",
     "iopub.status.busy": "2022-08-18T08:18:35.687666Z",
     "iopub.status.idle": "2022-08-18T08:18:35.693630Z",
     "shell.execute_reply": "2022-08-18T08:18:35.692821Z"
    },
    "papermill": {
     "duration": 0.024357,
     "end_time": "2022-08-18T08:18:35.695716",
     "exception": false,
     "start_time": "2022-08-18T08:18:35.671359",
     "status": "completed"
    },
    "tags": []
   },
   "outputs": [],
   "source": [
    "callbacks=[\n",
    "           tf.keras.callbacks.EarlyStopping(patience=3,monitor='loss'),\n",
    "         tf.keras.callbacks.ReduceLROnPlateau( monitor='loss',factor=0.1,patience=3, mode='min',min_lr=0.00001),\n",
    "        tf.keras.callbacks.ModelCheckpoint(filepath='./best_model',monitor = 'val_accuracy', save_best_only=True)\n",
    "]"
   ]
  },
  {
   "cell_type": "code",
   "execution_count": 17,
   "id": "8b1eb399",
   "metadata": {
    "execution": {
     "iopub.execute_input": "2022-08-18T08:18:35.729962Z",
     "iopub.status.busy": "2022-08-18T08:18:35.729108Z",
     "iopub.status.idle": "2022-08-18T08:43:14.183955Z",
     "shell.execute_reply": "2022-08-18T08:43:14.181979Z"
    },
    "papermill": {
     "duration": 1478.504305,
     "end_time": "2022-08-18T08:43:14.216046",
     "exception": false,
     "start_time": "2022-08-18T08:18:35.711741",
     "status": "completed"
    },
    "tags": []
   },
   "outputs": [
    {
     "name": "stderr",
     "output_type": "stream",
     "text": [
      "2022-08-18 08:18:38.574836: I tensorflow/compiler/mlir/mlir_graph_optimization_pass.cc:185] None of the MLIR Optimization Passes are enabled (registered 2)\n"
     ]
    },
    {
     "name": "stdout",
     "output_type": "stream",
     "text": [
      "Epoch 1/5\n"
     ]
    },
    {
     "name": "stderr",
     "output_type": "stream",
     "text": [
      "2022-08-18 08:18:44.569522: I tensorflow/stream_executor/cuda/cuda_dnn.cc:369] Loaded cuDNN version 8005\n"
     ]
    },
    {
     "name": "stdout",
     "output_type": "stream",
     "text": [
      "70/70 [==============================] - 288s 4s/step - loss: 18.0398 - accuracy: 0.7750 - val_loss: 0.6814 - val_accuracy: 0.0217\n"
     ]
    },
    {
     "name": "stderr",
     "output_type": "stream",
     "text": [
      "2022-08-18 08:23:26.792508: W tensorflow/python/util/util.cc:348] Sets are not currently considered sequences, but this may change in the future, so consider avoiding using them.\n",
      "2022-08-18 08:23:27.625697: W tensorflow/core/framework/cpu_allocator_impl.cc:80] Allocation of 2114060288 exceeds 10% of free system memory.\n",
      "2022-08-18 08:23:29.610296: W tensorflow/core/framework/cpu_allocator_impl.cc:80] Allocation of 2114060288 exceeds 10% of free system memory.\n",
      "2022-08-18 08:23:31.513298: W tensorflow/core/framework/cpu_allocator_impl.cc:80] Allocation of 2114060288 exceeds 10% of free system memory.\n"
     ]
    },
    {
     "name": "stdout",
     "output_type": "stream",
     "text": [
      "Epoch 2/5\n",
      "70/70 [==============================] - 275s 4s/step - loss: 0.9129 - accuracy: 0.3375 - val_loss: 0.6624 - val_accuracy: 0.5978\n"
     ]
    },
    {
     "name": "stderr",
     "output_type": "stream",
     "text": [
      "2022-08-18 08:28:31.463513: W tensorflow/core/framework/cpu_allocator_impl.cc:80] Allocation of 2114060288 exceeds 10% of free system memory.\n",
      "2022-08-18 08:28:33.247437: W tensorflow/core/framework/cpu_allocator_impl.cc:80] Allocation of 2114060288 exceeds 10% of free system memory.\n"
     ]
    },
    {
     "name": "stdout",
     "output_type": "stream",
     "text": [
      "Epoch 3/5\n",
      "70/70 [==============================] - 272s 4s/step - loss: 0.6482 - accuracy: 0.6250 - val_loss: 0.6234 - val_accuracy: 0.5978\n",
      "Epoch 4/5\n",
      "70/70 [==============================] - 273s 4s/step - loss: 0.6343 - accuracy: 0.8821 - val_loss: 0.6466 - val_accuracy: 0.9946\n",
      "Epoch 5/5\n",
      "70/70 [==============================] - 276s 4s/step - loss: 0.6299 - accuracy: 0.9857 - val_loss: 0.6166 - val_accuracy: 0.9837\n"
     ]
    }
   ],
   "source": [
    "history = model.fit(training_generator,\n",
    "          batch_size=8,\n",
    "          epochs=5,\n",
    "          validation_data = val_generator,\n",
    "          shuffle = True,\n",
    "          callbacks=callbacks)"
   ]
  },
  {
   "cell_type": "code",
   "execution_count": 18,
   "id": "267ebae3",
   "metadata": {
    "execution": {
     "iopub.execute_input": "2022-08-18T08:43:14.290802Z",
     "iopub.status.busy": "2022-08-18T08:43:14.288956Z",
     "iopub.status.idle": "2022-08-18T08:43:14.307191Z",
     "shell.execute_reply": "2022-08-18T08:43:14.306022Z"
    },
    "papermill": {
     "duration": 0.057088,
     "end_time": "2022-08-18T08:43:14.309481",
     "exception": false,
     "start_time": "2022-08-18T08:43:14.252393",
     "status": "completed"
    },
    "tags": []
   },
   "outputs": [
    {
     "data": {
      "text/html": [
       "<div>\n",
       "<style scoped>\n",
       "    .dataframe tbody tr th:only-of-type {\n",
       "        vertical-align: middle;\n",
       "    }\n",
       "\n",
       "    .dataframe tbody tr th {\n",
       "        vertical-align: top;\n",
       "    }\n",
       "\n",
       "    .dataframe thead th {\n",
       "        text-align: right;\n",
       "    }\n",
       "</style>\n",
       "<table border=\"1\" class=\"dataframe\">\n",
       "  <thead>\n",
       "    <tr style=\"text-align: right;\">\n",
       "      <th></th>\n",
       "      <th>image_id</th>\n",
       "      <th>center_id</th>\n",
       "      <th>patient_id</th>\n",
       "      <th>image_num</th>\n",
       "    </tr>\n",
       "  </thead>\n",
       "  <tbody>\n",
       "    <tr>\n",
       "      <th>0</th>\n",
       "      <td>006388_0</td>\n",
       "      <td>11</td>\n",
       "      <td>006388</td>\n",
       "      <td>0</td>\n",
       "    </tr>\n",
       "    <tr>\n",
       "      <th>1</th>\n",
       "      <td>008e5c_0</td>\n",
       "      <td>11</td>\n",
       "      <td>008e5c</td>\n",
       "      <td>0</td>\n",
       "    </tr>\n",
       "    <tr>\n",
       "      <th>2</th>\n",
       "      <td>00c058_0</td>\n",
       "      <td>11</td>\n",
       "      <td>00c058</td>\n",
       "      <td>0</td>\n",
       "    </tr>\n",
       "    <tr>\n",
       "      <th>3</th>\n",
       "      <td>01adc5_0</td>\n",
       "      <td>11</td>\n",
       "      <td>01adc5</td>\n",
       "      <td>0</td>\n",
       "    </tr>\n",
       "  </tbody>\n",
       "</table>\n",
       "</div>"
      ],
      "text/plain": [
       "   image_id  center_id patient_id  image_num\n",
       "0  006388_0         11     006388          0\n",
       "1  008e5c_0         11     008e5c          0\n",
       "2  00c058_0         11     00c058          0\n",
       "3  01adc5_0         11     01adc5          0"
      ]
     },
     "execution_count": 18,
     "metadata": {},
     "output_type": "execute_result"
    }
   ],
   "source": [
    "test_data"
   ]
  },
  {
   "cell_type": "code",
   "execution_count": 19,
   "id": "bab2c799",
   "metadata": {
    "execution": {
     "iopub.execute_input": "2022-08-18T08:43:14.385236Z",
     "iopub.status.busy": "2022-08-18T08:43:14.384576Z",
     "iopub.status.idle": "2022-08-18T08:43:14.408880Z",
     "shell.execute_reply": "2022-08-18T08:43:14.408037Z"
    },
    "papermill": {
     "duration": 0.062619,
     "end_time": "2022-08-18T08:43:14.410904",
     "exception": false,
     "start_time": "2022-08-18T08:43:14.348285",
     "status": "completed"
    },
    "tags": []
   },
   "outputs": [
    {
     "data": {
      "text/html": [
       "<div>\n",
       "<style scoped>\n",
       "    .dataframe tbody tr th:only-of-type {\n",
       "        vertical-align: middle;\n",
       "    }\n",
       "\n",
       "    .dataframe tbody tr th {\n",
       "        vertical-align: top;\n",
       "    }\n",
       "\n",
       "    .dataframe thead th {\n",
       "        text-align: right;\n",
       "    }\n",
       "</style>\n",
       "<table border=\"1\" class=\"dataframe\">\n",
       "  <thead>\n",
       "    <tr style=\"text-align: right;\">\n",
       "      <th></th>\n",
       "      <th>Path</th>\n",
       "      <th>image_id</th>\n",
       "    </tr>\n",
       "  </thead>\n",
       "  <tbody>\n",
       "    <tr>\n",
       "      <th>0</th>\n",
       "      <td>../input/mayo-clinic-strip-ai/test/006388_0.tif</td>\n",
       "      <td>006388_0</td>\n",
       "    </tr>\n",
       "    <tr>\n",
       "      <th>1</th>\n",
       "      <td>../input/mayo-clinic-strip-ai/test/00c058_0.tif</td>\n",
       "      <td>00c058_0</td>\n",
       "    </tr>\n",
       "    <tr>\n",
       "      <th>2</th>\n",
       "      <td>../input/mayo-clinic-strip-ai/test/008e5c_0.tif</td>\n",
       "      <td>008e5c_0</td>\n",
       "    </tr>\n",
       "    <tr>\n",
       "      <th>3</th>\n",
       "      <td>../input/mayo-clinic-strip-ai/test/01adc5_0.tif</td>\n",
       "      <td>01adc5_0</td>\n",
       "    </tr>\n",
       "  </tbody>\n",
       "</table>\n",
       "</div>"
      ],
      "text/plain": [
       "                                              Path  image_id\n",
       "0  ../input/mayo-clinic-strip-ai/test/006388_0.tif  006388_0\n",
       "1  ../input/mayo-clinic-strip-ai/test/00c058_0.tif  00c058_0\n",
       "2  ../input/mayo-clinic-strip-ai/test/008e5c_0.tif  008e5c_0\n",
       "3  ../input/mayo-clinic-strip-ai/test/01adc5_0.tif  01adc5_0"
      ]
     },
     "execution_count": 19,
     "metadata": {},
     "output_type": "execute_result"
    }
   ],
   "source": [
    "test_path = glob.glob(\"../input/mayo-clinic-strip-ai/test/*\")\n",
    "test_df = pd.DataFrame(columns=['Path','image_id'])\n",
    "test_df['Path'] = test_path\n",
    "test_df['image_id'] = test_df['Path'].apply(lambda x: x.split('/')[-1].replace('.tif',''))\n",
    "test_df"
   ]
  },
  {
   "cell_type": "code",
   "execution_count": 20,
   "id": "b7823782",
   "metadata": {
    "execution": {
     "iopub.execute_input": "2022-08-18T08:43:14.485851Z",
     "iopub.status.busy": "2022-08-18T08:43:14.484863Z",
     "iopub.status.idle": "2022-08-18T08:43:14.501489Z",
     "shell.execute_reply": "2022-08-18T08:43:14.500376Z"
    },
    "papermill": {
     "duration": 0.055377,
     "end_time": "2022-08-18T08:43:14.504079",
     "exception": false,
     "start_time": "2022-08-18T08:43:14.448702",
     "status": "completed"
    },
    "tags": []
   },
   "outputs": [
    {
     "data": {
      "text/html": [
       "<div>\n",
       "<style scoped>\n",
       "    .dataframe tbody tr th:only-of-type {\n",
       "        vertical-align: middle;\n",
       "    }\n",
       "\n",
       "    .dataframe tbody tr th {\n",
       "        vertical-align: top;\n",
       "    }\n",
       "\n",
       "    .dataframe thead th {\n",
       "        text-align: right;\n",
       "    }\n",
       "</style>\n",
       "<table border=\"1\" class=\"dataframe\">\n",
       "  <thead>\n",
       "    <tr style=\"text-align: right;\">\n",
       "      <th></th>\n",
       "      <th>image_id</th>\n",
       "      <th>center_id</th>\n",
       "      <th>patient_id</th>\n",
       "      <th>image_num</th>\n",
       "      <th>Path</th>\n",
       "    </tr>\n",
       "  </thead>\n",
       "  <tbody>\n",
       "    <tr>\n",
       "      <th>0</th>\n",
       "      <td>006388_0</td>\n",
       "      <td>11</td>\n",
       "      <td>006388</td>\n",
       "      <td>0</td>\n",
       "      <td>../input/mayo-clinic-strip-ai/test/006388_0.tif</td>\n",
       "    </tr>\n",
       "    <tr>\n",
       "      <th>1</th>\n",
       "      <td>008e5c_0</td>\n",
       "      <td>11</td>\n",
       "      <td>008e5c</td>\n",
       "      <td>0</td>\n",
       "      <td>../input/mayo-clinic-strip-ai/test/008e5c_0.tif</td>\n",
       "    </tr>\n",
       "    <tr>\n",
       "      <th>2</th>\n",
       "      <td>00c058_0</td>\n",
       "      <td>11</td>\n",
       "      <td>00c058</td>\n",
       "      <td>0</td>\n",
       "      <td>../input/mayo-clinic-strip-ai/test/00c058_0.tif</td>\n",
       "    </tr>\n",
       "    <tr>\n",
       "      <th>3</th>\n",
       "      <td>01adc5_0</td>\n",
       "      <td>11</td>\n",
       "      <td>01adc5</td>\n",
       "      <td>0</td>\n",
       "      <td>../input/mayo-clinic-strip-ai/test/01adc5_0.tif</td>\n",
       "    </tr>\n",
       "  </tbody>\n",
       "</table>\n",
       "</div>"
      ],
      "text/plain": [
       "   image_id  center_id patient_id  image_num  \\\n",
       "0  006388_0         11     006388          0   \n",
       "1  008e5c_0         11     008e5c          0   \n",
       "2  00c058_0         11     00c058          0   \n",
       "3  01adc5_0         11     01adc5          0   \n",
       "\n",
       "                                              Path  \n",
       "0  ../input/mayo-clinic-strip-ai/test/006388_0.tif  \n",
       "1  ../input/mayo-clinic-strip-ai/test/008e5c_0.tif  \n",
       "2  ../input/mayo-clinic-strip-ai/test/00c058_0.tif  \n",
       "3  ../input/mayo-clinic-strip-ai/test/01adc5_0.tif  "
      ]
     },
     "execution_count": 20,
     "metadata": {},
     "output_type": "execute_result"
    }
   ],
   "source": [
    "test_data = test_data.merge(test_df,on='image_id')\n",
    "test_data\n"
   ]
  },
  {
   "cell_type": "code",
   "execution_count": 21,
   "id": "65e4369c",
   "metadata": {
    "execution": {
     "iopub.execute_input": "2022-08-18T08:43:14.579980Z",
     "iopub.status.busy": "2022-08-18T08:43:14.579433Z",
     "iopub.status.idle": "2022-08-18T08:43:14.584713Z",
     "shell.execute_reply": "2022-08-18T08:43:14.583597Z"
    },
    "papermill": {
     "duration": 0.0459,
     "end_time": "2022-08-18T08:43:14.587565",
     "exception": false,
     "start_time": "2022-08-18T08:43:14.541665",
     "status": "completed"
    },
    "tags": []
   },
   "outputs": [],
   "source": [
    "test_gen = DataGenerator(test_data,batch_size=1,to_fit=False)\n"
   ]
  },
  {
   "cell_type": "code",
   "execution_count": 22,
   "id": "62b3b569",
   "metadata": {
    "execution": {
     "iopub.execute_input": "2022-08-18T08:43:14.660800Z",
     "iopub.status.busy": "2022-08-18T08:43:14.660479Z",
     "iopub.status.idle": "2022-08-18T08:43:14.664637Z",
     "shell.execute_reply": "2022-08-18T08:43:14.663573Z"
    },
    "papermill": {
     "duration": 0.044031,
     "end_time": "2022-08-18T08:43:14.666974",
     "exception": false,
     "start_time": "2022-08-18T08:43:14.622943",
     "status": "completed"
    },
    "tags": []
   },
   "outputs": [],
   "source": [
    "#from keras.models import load_model\n",
    "#saved_model = load_model('./best_model')"
   ]
  },
  {
   "cell_type": "code",
   "execution_count": 23,
   "id": "ed723993",
   "metadata": {
    "execution": {
     "iopub.execute_input": "2022-08-18T08:43:14.738148Z",
     "iopub.status.busy": "2022-08-18T08:43:14.737834Z",
     "iopub.status.idle": "2022-08-18T08:47:47.054559Z",
     "shell.execute_reply": "2022-08-18T08:47:47.053414Z"
    },
    "papermill": {
     "duration": 272.355692,
     "end_time": "2022-08-18T08:47:47.057377",
     "exception": false,
     "start_time": "2022-08-18T08:43:14.701685",
     "status": "completed"
    },
    "tags": []
   },
   "outputs": [
    {
     "name": "stdout",
     "output_type": "stream",
     "text": [
      "4/4 [==============================] - 149s 32s/step\n"
     ]
    }
   ],
   "source": [
    "predictions = model.predict(test_gen, verbose=1)"
   ]
  },
  {
   "cell_type": "code",
   "execution_count": 24,
   "id": "5abd66f6",
   "metadata": {
    "execution": {
     "iopub.execute_input": "2022-08-18T08:47:47.138494Z",
     "iopub.status.busy": "2022-08-18T08:47:47.137426Z",
     "iopub.status.idle": "2022-08-18T08:47:47.152893Z",
     "shell.execute_reply": "2022-08-18T08:47:47.151777Z"
    },
    "papermill": {
     "duration": 0.05844,
     "end_time": "2022-08-18T08:47:47.155313",
     "exception": false,
     "start_time": "2022-08-18T08:47:47.096873",
     "status": "completed"
    },
    "tags": []
   },
   "outputs": [
    {
     "data": {
      "text/html": [
       "<div>\n",
       "<style scoped>\n",
       "    .dataframe tbody tr th:only-of-type {\n",
       "        vertical-align: middle;\n",
       "    }\n",
       "\n",
       "    .dataframe tbody tr th {\n",
       "        vertical-align: top;\n",
       "    }\n",
       "\n",
       "    .dataframe thead th {\n",
       "        text-align: right;\n",
       "    }\n",
       "</style>\n",
       "<table border=\"1\" class=\"dataframe\">\n",
       "  <thead>\n",
       "    <tr style=\"text-align: right;\">\n",
       "      <th></th>\n",
       "      <th>CE</th>\n",
       "      <th>LAA</th>\n",
       "      <th>patient_id</th>\n",
       "    </tr>\n",
       "  </thead>\n",
       "  <tbody>\n",
       "    <tr>\n",
       "      <th>0</th>\n",
       "      <td>0.533790</td>\n",
       "      <td>0.466210</td>\n",
       "      <td>006388</td>\n",
       "    </tr>\n",
       "    <tr>\n",
       "      <th>1</th>\n",
       "      <td>0.532593</td>\n",
       "      <td>0.467407</td>\n",
       "      <td>008e5c</td>\n",
       "    </tr>\n",
       "    <tr>\n",
       "      <th>2</th>\n",
       "      <td>0.535249</td>\n",
       "      <td>0.464751</td>\n",
       "      <td>00c058</td>\n",
       "    </tr>\n",
       "    <tr>\n",
       "      <th>3</th>\n",
       "      <td>0.518508</td>\n",
       "      <td>0.481492</td>\n",
       "      <td>01adc5</td>\n",
       "    </tr>\n",
       "  </tbody>\n",
       "</table>\n",
       "</div>"
      ],
      "text/plain": [
       "         CE       LAA patient_id\n",
       "0  0.533790  0.466210     006388\n",
       "1  0.532593  0.467407     008e5c\n",
       "2  0.535249  0.464751     00c058\n",
       "3  0.518508  0.481492     01adc5"
      ]
     },
     "execution_count": 24,
     "metadata": {},
     "output_type": "execute_result"
    }
   ],
   "source": [
    "df_preds = pd.DataFrame(predictions, columns=[\"CE\", \"LAA\"])\n",
    "df_preds['patient_id'] = test_data['patient_id'] \n",
    "df_preds.head()"
   ]
  },
  {
   "cell_type": "code",
   "execution_count": 25,
   "id": "3348d49f",
   "metadata": {
    "execution": {
     "iopub.execute_input": "2022-08-18T08:47:47.237335Z",
     "iopub.status.busy": "2022-08-18T08:47:47.236945Z",
     "iopub.status.idle": "2022-08-18T08:47:47.260961Z",
     "shell.execute_reply": "2022-08-18T08:47:47.259653Z"
    },
    "papermill": {
     "duration": 0.067789,
     "end_time": "2022-08-18T08:47:47.263568",
     "exception": false,
     "start_time": "2022-08-18T08:47:47.195779",
     "status": "completed"
    },
    "tags": []
   },
   "outputs": [
    {
     "data": {
      "text/html": [
       "<div>\n",
       "<style scoped>\n",
       "    .dataframe tbody tr th:only-of-type {\n",
       "        vertical-align: middle;\n",
       "    }\n",
       "\n",
       "    .dataframe tbody tr th {\n",
       "        vertical-align: top;\n",
       "    }\n",
       "\n",
       "    .dataframe thead th {\n",
       "        text-align: right;\n",
       "    }\n",
       "</style>\n",
       "<table border=\"1\" class=\"dataframe\">\n",
       "  <thead>\n",
       "    <tr style=\"text-align: right;\">\n",
       "      <th></th>\n",
       "      <th>patient_id</th>\n",
       "      <th>CE</th>\n",
       "      <th>LAA</th>\n",
       "    </tr>\n",
       "  </thead>\n",
       "  <tbody>\n",
       "    <tr>\n",
       "      <th>0</th>\n",
       "      <td>006388</td>\n",
       "      <td>0.533790</td>\n",
       "      <td>0.466210</td>\n",
       "    </tr>\n",
       "    <tr>\n",
       "      <th>1</th>\n",
       "      <td>008e5c</td>\n",
       "      <td>0.532593</td>\n",
       "      <td>0.467407</td>\n",
       "    </tr>\n",
       "    <tr>\n",
       "      <th>2</th>\n",
       "      <td>00c058</td>\n",
       "      <td>0.535249</td>\n",
       "      <td>0.464751</td>\n",
       "    </tr>\n",
       "    <tr>\n",
       "      <th>3</th>\n",
       "      <td>01adc5</td>\n",
       "      <td>0.518508</td>\n",
       "      <td>0.481492</td>\n",
       "    </tr>\n",
       "  </tbody>\n",
       "</table>\n",
       "</div>"
      ],
      "text/plain": [
       "  patient_id        CE       LAA\n",
       "0     006388  0.533790  0.466210\n",
       "1     008e5c  0.532593  0.467407\n",
       "2     00c058  0.535249  0.464751\n",
       "3     01adc5  0.518508  0.481492"
      ]
     },
     "execution_count": 25,
     "metadata": {},
     "output_type": "execute_result"
    }
   ],
   "source": [
    "sub = {'patient_id':df_preds['patient_id'],'CE': df_preds['CE'],'LAA':df_preds['LAA']}\n",
    "submission = pd.DataFrame(sub)\n",
    "submission = submission.groupby(\"patient_id\").mean().reset_index()\n",
    "submission"
   ]
  },
  {
   "cell_type": "code",
   "execution_count": 26,
   "id": "4b125cc7",
   "metadata": {
    "execution": {
     "iopub.execute_input": "2022-08-18T08:47:47.345264Z",
     "iopub.status.busy": "2022-08-18T08:47:47.344267Z",
     "iopub.status.idle": "2022-08-18T08:47:48.562157Z",
     "shell.execute_reply": "2022-08-18T08:47:48.560793Z"
    },
    "papermill": {
     "duration": 1.261096,
     "end_time": "2022-08-18T08:47:48.565038",
     "exception": false,
     "start_time": "2022-08-18T08:47:47.303942",
     "status": "completed"
    },
    "tags": []
   },
   "outputs": [
    {
     "name": "stdout",
     "output_type": "stream",
     "text": [
      "patient_id,CE,LAA\r\n",
      "006388,0.53379005,0.46620992\r\n",
      "008e5c,0.5325929,0.4674071\r\n",
      "00c058,0.53524894,0.46475103\r\n",
      "01adc5,0.5185083,0.4814917\r\n"
     ]
    }
   ],
   "source": [
    "submission[[\"patient_id\", \"CE\", \"LAA\"]].to_csv(\"/kaggle/working/submission.csv\", index=False)\n",
    "!head submission.csv"
   ]
  },
  {
   "cell_type": "code",
   "execution_count": null,
   "id": "666cb3bf",
   "metadata": {
    "papermill": {
     "duration": 0.039486,
     "end_time": "2022-08-18T08:47:48.644837",
     "exception": false,
     "start_time": "2022-08-18T08:47:48.605351",
     "status": "completed"
    },
    "tags": []
   },
   "outputs": [],
   "source": []
  }
 ],
 "metadata": {
  "kernelspec": {
   "display_name": "Python 3",
   "language": "python",
   "name": "python3"
  },
  "language_info": {
   "codemirror_mode": {
    "name": "ipython",
    "version": 3
   },
   "file_extension": ".py",
   "mimetype": "text/x-python",
   "name": "python",
   "nbconvert_exporter": "python",
   "pygments_lexer": "ipython3",
   "version": "3.7.12"
  },
  "papermill": {
   "default_parameters": {},
   "duration": 1825.622176,
   "end_time": "2022-08-18T08:47:51.668853",
   "environment_variables": {},
   "exception": null,
   "input_path": "__notebook__.ipynb",
   "output_path": "__notebook__.ipynb",
   "parameters": {},
   "start_time": "2022-08-18T08:17:26.046677",
   "version": "2.3.4"
  }
 },
 "nbformat": 4,
 "nbformat_minor": 5
}
